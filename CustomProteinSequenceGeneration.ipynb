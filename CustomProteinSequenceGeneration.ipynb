{
  "nbformat": 4,
  "nbformat_minor": 0,
  "metadata": {
    "colab": {
      "private_outputs": true,
      "provenance": [],
      "machine_shape": "hm",
      "authorship_tag": "ABX9TyPretBoxDdhmlw38eRIvrKg",
      "include_colab_link": true
    },
    "kernelspec": {
      "name": "python3",
      "display_name": "Python 3"
    },
    "language_info": {
      "name": "python"
    },
    "accelerator": "GPU",
    "gpuClass": "standard"
  },
  "cells": [
    {
      "cell_type": "markdown",
      "metadata": {
        "id": "view-in-github",
        "colab_type": "text"
      },
      "source": [
        "<a href=\"https://colab.research.google.com/github/eldarhac/CustomProteinSequenceGeneration/blob/main/CustomProteinSequenceGeneration.ipynb\" target=\"_parent\"><img src=\"https://colab.research.google.com/assets/colab-badge.svg\" alt=\"Open In Colab\"/></a>"
      ]
    },
    {
      "cell_type": "markdown",
      "source": [
        "# A Novel Transformer Based Model Architecture for Function-Based Protein Sequence Generation "
      ],
      "metadata": {
        "id": "wWoQyhVny4CI"
      }
    },
    {
      "cell_type": "markdown",
      "source": [
        "## Design and Preperation"
      ],
      "metadata": {
        "id": "iyECesV5A0GW"
      }
    },
    {
      "cell_type": "markdown",
      "source": [
        "### Components:"
      ],
      "metadata": {
        "id": "h5xIEBXS_NyQ"
      }
    },
    {
      "cell_type": "markdown",
      "source": [
        "1. Transformer-based Generative DNA sequenceing model\n",
        "2. AlphaFold 2.0\n",
        "3. PDB a graph \n",
        "4. Graph2Vec\n",
        "5. Regression XGBoost\n"
      ],
      "metadata": {
        "id": "i7zEZcC1H8xM"
      }
    },
    {
      "cell_type": "markdown",
      "source": [
        "### Installations"
      ],
      "metadata": {
        "id": "Z9BCX42rJ5e2"
      }
    },
    {
      "cell_type": "code",
      "source": [
        "!pip install transformers\n",
        "!pip install biopandas -q\n",
        "!pip install -q --no-warn-conflicts \"colabfold[alphafold-minus-jax] @ git+https://github.com/sokrypton/ColabFold\"\n",
        "!pip install -q jax -f https://storage.googleapis.com/jax-releases/jax_releases.html"
      ],
      "metadata": {
        "id": "LpeuxVn5J5QT"
      },
      "execution_count": null,
      "outputs": []
    },
    {
      "cell_type": "markdown",
      "source": [
        "### Imports"
      ],
      "metadata": {
        "id": "h2MNqWNIJZjO"
      }
    },
    {
      "cell_type": "code",
      "source": [
        "import torch\n",
        "import transformers\n",
        "import numpy as np\n",
        "from biopandas.pdb import PandasPdb\n",
        "from google.colab import files\n",
        "import os.path\n",
        "import re\n",
        "import hashlib\n",
        "import random\n",
        "from sys import version_info \n",
        "import sys\n",
        "import warnings\n",
        "warnings.simplefilter(action='ignore', category=FutureWarning)\n",
        "\n",
        "from colabfold.download import download_alphafold_params, default_data_dir\n",
        "from colabfold.utils import setup_logging\n",
        "from colabfold.batch import get_queries, run, set_model_type\n",
        "import os\n",
        "try:\n",
        "  K80_chk = os.popen('nvidia-smi | grep \"Tesla K80\" | wc -l').read()\n",
        "except:\n",
        "  K80_chk = \"0\"\n",
        "  pass\n",
        "if \"1\" in K80_chk:\n",
        "  print(\"WARNING: found GPU Tesla K80: limited to total length < 1000\")\n",
        "  if \"TF_FORCE_UNIFIED_MEMORY\" in os.environ:\n",
        "    del os.environ[\"TF_FORCE_UNIFIED_MEMORY\"]\n",
        "  if \"XLA_PYTHON_CLIENT_MEM_FRACTION\" in os.environ:\n",
        "    del os.environ[\"XLA_PYTHON_CLIENT_MEM_FRACTION\"]\n",
        "\n",
        "from colabfold.colabfold import plot_protein\n",
        "from pathlib import Path\n",
        "from typing import Union, List"
      ],
      "metadata": {
        "id": "rpwCi-9GJYyB"
      },
      "execution_count": null,
      "outputs": []
    },
    {
      "cell_type": "markdown",
      "source": [
        "## Amino-Acid Sequence Generative Model"
      ],
      "metadata": {
        "id": "s_tHKoH16HaH"
      }
    },
    {
      "cell_type": "markdown",
      "source": [
        "### Prepare Data"
      ],
      "metadata": {
        "id": "NC0hd32xA-1i"
      }
    },
    {
      "cell_type": "code",
      "source": [
        "def load_sequence_from_fasta(filename: str) -> Union[List[str], str]:\n",
        "  sequences = []\n",
        "  sequence = ''\n",
        "  with open(filename, \"r\") as f:\n",
        "      for line in f:\n",
        "          if line.startswith(\">\") and len(sequence):\n",
        "              sequences.append(sequence)\n",
        "              sequence = ''\n",
        "          else:\n",
        "              sequence += line\n",
        "  return sequences if len(sequences) > 1 else sequence\n",
        "\n",
        "def load_dataset(folder_path: str):\n",
        "  return [load_sequence_from_fasta(os.path.join(folder_path, f)) \n",
        "          for f in os.listdir(folder_path) \n",
        "          if os.path.isfile(os.path.join(folder_path, f)) and f.endswith('.fasta')]\n"
      ],
      "metadata": {
        "id": "Kiu9w1TVBPJn"
      },
      "execution_count": null,
      "outputs": []
    },
    {
      "cell_type": "markdown",
      "source": [
        "## AlphaFold 2.0"
      ],
      "metadata": {
        "id": "L618JVAs6Tm8"
      }
    },
    {
      "cell_type": "markdown",
      "source": [
        "### Prepare AlphaFold Model"
      ],
      "metadata": {
        "id": "x8lk7xwJEUpV"
      }
    },
    {
      "cell_type": "code",
      "source": [
        "python_version = f\"{version_info.major}.{version_info.minor}\"\n",
        "\n",
        "# number of models to use\n",
        "use_amber = False\n",
        "template_mode = \"none\" \n",
        "custom_template_path = None\n",
        "use_templates = False\n",
        "\n",
        "# Defining modes\n",
        "msa_mode = \"MMseqs2 (UniRef+Environmental)\"\n",
        "pair_mode = \"unpaired+paired\"\n",
        "\n",
        "# Advanced settings\n",
        "num_recycles = 3 \n",
        "save_to_google_drive = False\n",
        "\n",
        "dpi = 200 \n",
        "\n",
        "if 'logging_setup' not in globals():\n",
        "    setup_logging(Path(\".\").joinpath(\"log.txt\"))\n",
        "    logging_setup = True\n",
        "\n",
        "COMPLEX_PARAMS_PATH = \"./complex\"\n",
        "SIMPLE_PARAMS_PATH = \"./simple\"\n",
        "if not os.path.isdir(COMPLEX_PARAMS_PATH):\n",
        "  os.mkdir(COMPLEX_PARAMS_PATH)\n",
        "if not os.path.isdir(SIMPLE_PARAMS_PATH):\n",
        "  os.mkdir(SIMPLE_PARAMS_PATH)\n",
        "\n",
        "complex_model_type = \"AlphaFold2-multimer-v2\"\n",
        "download_alphafold_params(complex_model_type, Path(COMPLEX_PARAMS_PATH))\n",
        "simple_model_type = \"AlphaFold2-ptm\"\n",
        "download_alphafold_params(simple_model_type, Path(SIMPLE_PARAMS_PATH))"
      ],
      "metadata": {
        "id": "ec8_haPirqyY"
      },
      "execution_count": null,
      "outputs": []
    },
    {
      "cell_type": "markdown",
      "source": [
        "### AlphaFold Model Runner"
      ],
      "metadata": {
        "id": "11PGdMmlFMIl"
      }
    },
    {
      "cell_type": "code",
      "source": [
        "result_dir=\"./results\"\n",
        "if not os.path.isdir(result_dir):\n",
        "  os.mkdir(result_dir)\n",
        "\n",
        "def clean_folders(jobname):\n",
        "  for filename in os.listdir(\".\"):\n",
        "    if os.path.isfile(filename):\n",
        "      os.remove(filename)\n",
        "  for filename in os.listdir(result_dir):\n",
        "    if os.path.isfile(os.path.join(result_dir, filename)):\n",
        "      os.remove(os.path.join(result_dir, filename))\n",
        "  jobname_envpath = os.path.join(result_dir, f\"{jobname}_env\")\n",
        "  for filename in os.listdir(jobname_envpath):\n",
        "    if os.path.isfile(os.path.join(jobname_envpath, filename)):\n",
        "      os.remove(os.path.join(jobname_envpath, filename))\n",
        "  os.rmdir(os.path.join(result_dir, f\"{jobname}_env\"))\n",
        "\n",
        "\n",
        "def get_hash(y):\n",
        "  return hashlib.sha1(y.encode()).hexdigest()[:5]\n",
        "\n",
        "def run_alphafold_model(query_sequences: Union[str, List[str]]):\n",
        "  # remove whitespaces\n",
        "  if isinstance(query_sequences, str):\n",
        "    query_sequence = \"\".join(query_sequences.split())\n",
        "\n",
        "    # remove whitespaces\n",
        "    jobname = get_hash(query_sequence)\n",
        "    while os.path.isfile(f\"{jobname}.csv\"):\n",
        "      jobname = get_hash(''.join(random.sample(query_sequence,len(query_sequence))))\n",
        "    queries_path=f\"{jobname}.csv\"\n",
        "    with open(queries_path, \"w\") as text_file:\n",
        "        text_file.write(f\"id,sequence\\n{jobname},{query_sequence}\")\n",
        "  elif isinstance(query_sequences, list):\n",
        "    for i, query_sequence in enumerate(query_sequences):\n",
        "      query_sequences[i] = \"\".join(query_sequence.split())\n",
        "\n",
        "    # remove whitespaces\n",
        "    joint_sequences = \"\".join(query_sequences)\n",
        "    jobname = get_hash(joint_sequences)\n",
        "    while os.path.isfile(f\"{jobname}.csv\"):\n",
        "      jobname = get_hash(''.join(random.sample(joint_sequences,len(joint_sequences))))\n",
        "    queries_path=f\"{jobname}.csv\"\n",
        "    with open(queries_path, \"w\") as text_file:\n",
        "        text_file.write(f\"id,sequence\\n\" + \n",
        "                        '\\n'.join([f\"{get_hash(sequence)},{sequence}\" for sequence in query_sequences]))\n",
        "\n",
        "  queries, is_complex = get_queries(queries_path)\n",
        "  os.remove(queries_path)\n",
        "  run(\n",
        "      queries=queries,\n",
        "      result_dir=result_dir,\n",
        "      use_templates=use_templates,\n",
        "      custom_template_path=custom_template_path,\n",
        "      use_amber=use_amber,\n",
        "      msa_mode=msa_mode,    \n",
        "      model_type=complex_model_type if is_complex else simple_model_type,\n",
        "      num_models=1,\n",
        "      num_recycles=num_recycles,\n",
        "      model_order=[5],\n",
        "      is_complex=is_complex,\n",
        "      data_dir=Path(COMPLEX_PARAMS_PATH if is_complex else SIMPLE_PARAMS_PATH),\n",
        "      keep_existing_results=False,\n",
        "      recompile_padding=1.0,\n",
        "      rank_by=\"auto\",\n",
        "      pair_mode=pair_mode,\n",
        "      stop_at_score=float(100),\n",
        "      dpi=dpi,\n",
        "      zip_results=True\n",
        "  )\n",
        "  directory = \"./protein_structures\"\n",
        "  if not os.path.isdir(directory):\n",
        "    os.mkdir(directory)\n",
        "  os.system(f\"unzip {result_dir}/{jobname}.result.zip\")\n",
        "  os.system(f\"cp {jobname}_unrelaxed_rank_1_model_5.pdb {directory}\")\n",
        "  clean_folders(jobname)"
      ],
      "metadata": {
        "id": "6TtUjs96xvkh"
      },
      "execution_count": null,
      "outputs": []
    }
  ]
}